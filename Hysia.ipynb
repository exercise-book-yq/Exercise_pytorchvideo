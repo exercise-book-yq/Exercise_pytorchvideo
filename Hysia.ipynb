{
  "nbformat": 4,
  "nbformat_minor": 0,
  "metadata": {
    "colab": {
      "name": "Hysia.ipynb",
      "provenance": [],
      "authorship_tag": "ABX9TyPGludstlmub98k0sOpKspQ",
      "include_colab_link": true
    },
    "kernelspec": {
      "name": "python3",
      "display_name": "Python 3"
    },
    "language_info": {
      "name": "python"
    }
  },
  "cells": [
    {
      "cell_type": "markdown",
      "metadata": {
        "id": "view-in-github",
        "colab_type": "text"
      },
      "source": [
        "<a href=\"https://colab.research.google.com/github/zhengyouqiang/Exercise_pytorchvideo/blob/main/Hysia.ipynb\" target=\"_parent\"><img src=\"https://colab.research.google.com/assets/colab-badge.svg\" alt=\"Open In Colab\"/></a>"
      ]
    },
    {
      "cell_type": "markdown",
      "metadata": {
        "id": "kho80zDWG2Er"
      },
      "source": [
        "# Introduction\n",
        "Serving DNN-Based Video-to-Retail Applications in Cloud\n",
        "Analyzing video content and products, and to match them to each other so that companies can promote products efficiently while maintaining the video watching experience of users.\n",
        "\n",
        "How to efficiently process and match them remains an open problem.the following two perspectives: the system\n",
        "perspective and the algorithm perspective. \n",
        "\n",
        "It allows non-expert users to\n",
        "quickly make use of the built-in utilities to analyze V2R related data;\n",
        "and expert users to build or evaluate new, high performance V2R applications with ease. Essential features in V2R such as application\n",
        "management and new model binding are also provided. Hysia can\n",
        "run in either virtual machines (VMs) or containers, making it easy\n",
        "to be integrated into the current cloud environments."
      ]
    },
    {
      "cell_type": "code",
      "metadata": {
        "id": "OnuDLpRbN2vl"
      },
      "source": [
        ""
      ],
      "execution_count": null,
      "outputs": []
    },
    {
      "cell_type": "markdown",
      "metadata": {
        "id": "APlTCLBfHkez"
      },
      "source": [
        "# Abstract\n",
        "Provide practitioners\n",
        "and researchers in multimedia with a cloud-based platform named\n",
        "Hysia for easy development and deployment of V2R applications.\n",
        "### Consistent:\n",
        "1) a back-end infrastructure providing opti-\n",
        "mized V2R related services including data engine, model repository,\n",
        "model serving and content matching\n",
        "2) an application layer\n",
        "which enables rapid V2R application prototyping. Hysia addresses\n",
        "industry and academic needs in large-scale multimedia.\n",
        "### Tools:\n",
        "1) seamlessly integrating state-of-the-art libraries including *NVIDIA video\n",
        "SDK, Facebook faiss, and gRPC;* \n",
        "2) efficiently utilizing *GPU* com-\n",
        "putation\n",
        "3) allowing developers to bind new models easily to\n",
        "meet the rapidly changing *deep learning (DL) techniques.*\n"
      ]
    },
    {
      "cell_type": "markdown",
      "metadata": {
        "id": "0J-HGQOIN36Q"
      },
      "source": [
        "# System Design\n",
        "### Architecture\n",
        "Back-End Platform.\n",
        "\n",
        "\n",
        "Front-End Application\n",
        "\n",
        "### Workflow\n",
        "The workflow of this system is illustrated in Figure 2, which in-\n",
        "cludes two phases: offline and online.\n",
        "\n",
        "offline:\n",
        "use the profiler to obtain their runtime performance.\n",
        "\n",
        "online:\n",
        "to upload data (e.g. videos and ads),\n",
        "and to display final results.\n",
        "\n",
        "However,the orchestrator sends the optimal batch size of a model\n",
        "to the data engine so that it can batch the formatted requests.\n",
        "\n",
        "\n",
        "# Quantitative Evaluation\n",
        "The evaluation is surrounding the efficience and the latency.\n",
        "Four aspects:\n",
        "1) Hysia data engine is able to efficiently utilize GPUs to process\n",
        "videos at the speed of more than 1000FPS, providing enough im-\n",
        "ages for further analysis. 2) The key frame detection method can\n",
        "further improve video preprocessing speeds. A video with more\n",
        "scene shots can have more performance benefits. 3) As the batch\n",
        "size increases, the latency keeps increasing while the throughput\n",
        "increases initially, then decreases. This demonstrates the necessity\n",
        "of our model profiler and orchestrator for finding the right batch\n",
        "size. 4) By integrating faiss, Hysia’s matching module can search for\n",
        "100K of product images in less than 4.5ms. This demonstrates the\n",
        "ability to support a real-time shopping experience for spectators.\n",
        "\n",
        "\n",
        "\n"
      ]
    },
    {
      "cell_type": "markdown",
      "metadata": {
        "id": "xy2ZqrKnQk49"
      },
      "source": [
        ""
      ]
    }
  ]
}